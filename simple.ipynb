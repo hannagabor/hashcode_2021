{
 "cells": [
  {
   "cell_type": "code",
   "execution_count": 46,
   "metadata": {},
   "outputs": [],
   "source": [
    "from collections import defaultdict, namedtuple\n",
    "Edge = namedtuple('Edge', ['target', 'length', 'name'])\n",
    "\n",
    "filename='f'\n",
    "input_file = f'{filename}.txt'\n",
    "graph = defaultdict(list)\n",
    "pathes = []\n",
    "traffic_in_intersection = defaultdict(lambda: defaultdict(int))\n",
    "street_ends = {}\n",
    "# intersection_id : {street_1: 6, street_2: 3}\n",
    "with open(input_file) as f:\n",
    "    D, I, S, V, F = map(int, f.readline().strip().split(' '))\n",
    "    for street_id in range(S):\n",
    "        B, E, name, L = f.readline().strip().split(' ')\n",
    "        B, E, L = int(B), int(E), int(L)\n",
    "        \n",
    "        street_ends[name] = int(E)\n",
    "        graph[B].append(Edge(E, L, name))\n",
    "    paths = [f.readline().strip().split(' ')[1:] for _ in range(V)]\n",
    "\n"
   ]
  },
  {
   "cell_type": "code",
   "execution_count": 47,
   "metadata": {},
   "outputs": [],
   "source": [
    "# {street: (avg_path_len)}\n",
    "sum_containing_path_lenght = defaultdict(int)\n",
    "num_containing_path_length = defaultdict(int)"
   ]
  },
  {
   "cell_type": "code",
   "execution_count": 48,
   "metadata": {},
   "outputs": [],
   "source": [
    "for path in paths:\n",
    "    for i, street in enumerate(path):\n",
    "        sum_containing_path_lenght[street] += (len(path) - i)\n",
    "        num_containing_path_length[street] += 1\n",
    "        end = street_ends[street]\n",
    "        traffic_in_intersection[end][street] += 1"
   ]
  },
  {
   "cell_type": "code",
   "execution_count": 49,
   "metadata": {},
   "outputs": [],
   "source": [
    "out = open(f'out_{filename}.txt', 'w')\n",
    "out.write(str(len(traffic_in_intersection)) + '\\n')\n",
    "for intersection, numbers in traffic_in_intersection.items():\n",
    "    out.write(str(intersection) + '\\n')\n",
    "    out.write(str(len(numbers)) + '\\n')\n",
    "    for street_name, num in numbers.items():\n",
    "        avg = sum_containing_path_lenght[street] // num_containing_path_length[street]\n",
    "        out.write(f'{street_name} {num // avg + 1}\\n')\n",
    "out.close()"
   ]
  },
  {
   "cell_type": "code",
   "execution_count": null,
   "metadata": {},
   "outputs": [],
   "source": []
  }
 ],
 "metadata": {
  "kernelspec": {
   "display_name": "Python 3",
   "language": "python",
   "name": "python3"
  },
  "language_info": {
   "codemirror_mode": {
    "name": "ipython",
    "version": 3
   },
   "file_extension": ".py",
   "mimetype": "text/x-python",
   "name": "python",
   "nbconvert_exporter": "python",
   "pygments_lexer": "ipython3",
   "version": "3.7.6"
  }
 },
 "nbformat": 4,
 "nbformat_minor": 4
}
